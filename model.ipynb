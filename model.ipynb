{
 "cells": [
  {
   "cell_type": "markdown",
   "metadata": {},
   "source": [
    "### Import libraries "
   ]
  },
  {
   "cell_type": "code",
   "execution_count": 1,
   "metadata": {},
   "outputs": [],
   "source": [
    "import os\n",
    "import random\n",
    "import torch \n",
    "import torch.nn as nn\n",
    "import numpy as np\n",
    "import pandas as pd\n",
    "import matplotlib.pyplot as plt \n",
    "\n",
    "from PIL import Image \n",
    "from torch.utils.data import Dataset, DataLoader\n",
    "from sklearn.model_selection import train_test_split"
   ]
  },
  {
   "cell_type": "markdown",
   "metadata": {},
   "source": [
    "### Dataset "
   ]
  },
  {
   "cell_type": "code",
   "execution_count": 2,
   "metadata": {},
   "outputs": [],
   "source": [
    "root_dir = 'dataset'"
   ]
  },
  {
   "cell_type": "code",
   "execution_count": 3,
   "metadata": {},
   "outputs": [
    {
     "name": "stdout",
     "output_type": "stream",
     "text": [
      "['dew', 'fogsmog', 'frost', 'glaze', 'hail', 'lightning', 'rain', 'rainbow', 'rime', 'sandstorm', 'snow']\n"
     ]
    }
   ],
   "source": [
    "class_folders = sorted(os.listdir(root_dir))\n",
    "print(class_folders)"
   ]
  },
  {
   "cell_type": "code",
   "execution_count": 4,
   "metadata": {},
   "outputs": [
    {
     "name": "stdout",
     "output_type": "stream",
     "text": [
      "{0: 'dew', 1: 'fogsmog', 2: 'frost', 3: 'glaze', 4: 'hail', 5: 'lightning', 6: 'rain', 7: 'rainbow', 8: 'rime', 9: 'sandstorm', 10: 'snow'}\n"
     ]
    }
   ],
   "source": [
    "classes = {}\n",
    "\n",
    "for i, folder_name in enumerate(class_folders):\n",
    "    classes[i] = folder_name\n",
    "\n",
    "print(classes)"
   ]
  },
  {
   "cell_type": "code",
   "execution_count": 5,
   "metadata": {},
   "outputs": [
    {
     "data": {
      "text/plain": [
       "{0: 'dataset\\\\dew',\n",
       " 1: 'dataset\\\\fogsmog',\n",
       " 2: 'dataset\\\\frost',\n",
       " 3: 'dataset\\\\glaze',\n",
       " 4: 'dataset\\\\hail',\n",
       " 5: 'dataset\\\\lightning',\n",
       " 6: 'dataset\\\\rain',\n",
       " 7: 'dataset\\\\rainbow',\n",
       " 8: 'dataset\\\\rime',\n",
       " 9: 'dataset\\\\sandstorm',\n",
       " 10: 'dataset\\\\snow'}"
      ]
     },
     "execution_count": 5,
     "metadata": {},
     "output_type": "execute_result"
    }
   ],
   "source": [
    "\n",
    "\n",
    "# duyệt qua từng cặp idx va class name (folder class) \n",
    "class_dirs = {}\n",
    "for label_idx, class_name in classes.items():\n",
    "    # Tạo đường dẫn đến thư mục chứa ảnh  từng class\n",
    "    class_dirs[label_idx] = os.path.join(root_dir, class_name)\n",
    "\n",
    "\n",
    "class_dirs\n"
   ]
  },
  {
   "cell_type": "code",
   "execution_count": 6,
   "metadata": {},
   "outputs": [
    {
     "data": {
      "text/plain": [
       "(['dataset\\\\dew\\\\2208.jpg',\n",
       "  'dataset\\\\dew\\\\2209.jpg',\n",
       "  'dataset\\\\dew\\\\2210.jpg',\n",
       "  'dataset\\\\dew\\\\2211.jpg',\n",
       "  'dataset\\\\dew\\\\2212.jpg'],\n",
       " [0, 0, 0, 0, 0])"
      ]
     },
     "execution_count": 6,
     "metadata": {},
     "output_type": "execute_result"
    }
   ],
   "source": [
    "img_paths = []\n",
    "labels = []\n",
    "\n",
    "# duyệt qua từng thư mục và lấy danh sách ảnh\n",
    "for label_idx, class_dir in class_dirs.items():\n",
    "    # Duyệt qua từng ảnh trong thư mục hiện tại\n",
    "    for img_filename in os.listdir(class_dir):\n",
    "        img_path = os.path.join(class_dir, img_filename)\n",
    "        \n",
    "        img_paths.append(img_path)\n",
    "        labels.append(label_idx)\n",
    "\n",
    "img_paths[0:5], labels[0:5]\n",
    "        "
   ]
  },
  {
   "cell_type": "code",
   "execution_count": 7,
   "metadata": {},
   "outputs": [],
   "source": [
    "#  Chia dữ liệu ban đầu thành Train (80%) - Validation (20%)\n",
    "X_train, X_val, y_train, y_val = train_test_split(\n",
    "    img_paths,         \n",
    "    labels,            \n",
    "    test_size=0.2, \n",
    "    random_state=0,\n",
    "    shuffle=True\n",
    ")\n",
    "\n",
    "\n",
    "# Chia tiếp tập Train thành Train (70%) - Test (10%)\n",
    "X_train, X_test, y_train, y_test = train_test_split(\n",
    "    X_train,          \n",
    "    y_train,           \n",
    "    test_size=0.125, \n",
    "    random_state=0, \n",
    "    shuffle=True\n",
    ")"
   ]
  },
  {
   "cell_type": "code",
   "execution_count": 8,
   "metadata": {},
   "outputs": [],
   "source": [
    "def transform(img, img_size= (224, 224)):\n",
    "    img = img.resize(img_size)\n",
    "    img =np.array(img)[..., :3]\n",
    "    img = torch.tensor(img).permute(2, 0, 1).float() #huyển đổi kênh màu (C, H, W), \n",
    "    normalized_img = img/255\n",
    "    return normalized_img\n",
    "\n",
    "\n",
    "class CustomDataset(Dataset):\n",
    "    def __init__(self, X, y,transform=None):\n",
    "        self.img_paths = X\n",
    "        self.labels = y\n",
    "        self.transform = transform \n",
    "\n",
    "    def __len__(self):\n",
    "        return len(self.img_paths)\n",
    "    \n",
    "    def __getitem__(self, index):\n",
    "        img_path = self.img_paths[index]\n",
    "        img = Image.open(img_path).convert(\"RGB\")\n",
    "\n",
    "        if self.transform:\n",
    "            img = self.transform(img)\n",
    "        \n",
    "        return img, self.labels[index]\n"
   ]
  },
  {
   "cell_type": "code",
   "execution_count": 9,
   "metadata": {},
   "outputs": [],
   "source": [
    "train_dataset = CustomDataset(\n",
    "    X_train, y_train,\n",
    "    transform= transform\n",
    ")\n",
    "\n",
    "\n",
    "val_dataset = CustomDataset(\n",
    "    X_val, y_val,\n",
    "    transform= transform\n",
    ")\n",
    "\n",
    "train_dataset = CustomDataset(\n",
    "    X_test, y_test,\n",
    "    transform= transform\n",
    ")\n"
   ]
  },
  {
   "cell_type": "code",
   "execution_count": 10,
   "metadata": {},
   "outputs": [],
   "source": [
    "# Dataloader\n",
    "\n",
    "train_batchsize = 512\n",
    "\n",
    "train_loader = DataLoader(\n",
    "    train_dataset,\n",
    "    batch_size=train_batchsize,\n",
    "    shuffle=True\n",
    ")\n",
    "\n",
    "\n",
    "val_loader = DataLoader(\n",
    "    val_dataset,\n",
    "    batch_size=8,\n",
    "    shuffle=False\n",
    ")\n",
    "\n",
    "\n",
    "test_loader = DataLoader(\n",
    "    train_dataset,\n",
    "    batch_size=8,\n",
    "    shuffle=False\n",
    ")"
   ]
  },
  {
   "cell_type": "code",
   "execution_count": 11,
   "metadata": {},
   "outputs": [
    {
     "data": {
      "text/plain": [
       "(torch.Size([512, 3, 224, 224]), torch.Size([512]))"
      ]
     },
     "execution_count": 11,
     "metadata": {},
     "output_type": "execute_result"
    }
   ],
   "source": [
    "train_features, train_labels = next(iter(train_loader))\n",
    "train_features.size(), train_labels.size()"
   ]
  },
  {
   "cell_type": "markdown",
   "metadata": {},
   "source": [
    "### ResNet Model "
   ]
  },
  {
   "cell_type": "code",
   "execution_count": 12,
   "metadata": {},
   "outputs": [],
   "source": [
    "class ResidualBlock(nn.Module):\n",
    "    def __init__(self, in_channels, out_channels, stride=1):\n",
    "        super(ResidualBlock, self).__init__()\n",
    "        self.conv1 = nn.Conv2d(in_channels, out_channels, kernel_size=3, stride=stride, padding=1)\n",
    "        self.batch_norm1 = nn.BatchNorm2d(out_channels)\n",
    "        self.conv2 = nn.Conv2d(out_channels, out_channels, kernel_size=3, stride=1, padding=1)\n",
    "        self.batch_norm2 = nn.BatchNorm2d(out_channels)\n",
    "\n",
    "        # Tạo downsample cho shortcut nếu cần\n",
    "        self.downsample = nn.Sequential()\n",
    "        if stride != 1 or in_channels != out_channels:\n",
    "            self.downsample = nn.Sequential(\n",
    "                nn.Conv2d(in_channels, out_channels, kernel_size=1, stride=stride),\n",
    "                nn.BatchNorm2d(out_channels)\n",
    "            )\n",
    "        \n",
    "        self.relu = nn.ReLU()\n",
    "\n",
    "    def forward(self, x):\n",
    "        shortcut = self.downsample(x)  # Xử lý shortcut để khớp kích thước nếu cần\n",
    "        \n",
    "        x = self.conv1(x)\n",
    "        x = self.batch_norm1(x)\n",
    "        x = self.relu(x)\n",
    "        x = self.conv2(x)\n",
    "        x = self.batch_norm2(x)\n",
    "        \n",
    "        x += shortcut  # Cộng với shortcut đã được xử lý\n",
    "        x = self.relu(x)\n",
    "        \n",
    "        return x\n"
   ]
  },
  {
   "cell_type": "code",
   "execution_count": 13,
   "metadata": {},
   "outputs": [],
   "source": [
    "class ResNet(nn.Module):\n",
    "    def __init__(self, residual_block, n_blocks_lst, n_classes):\n",
    "        super(ResNet, self).__init__()\n",
    "        \n",
    "        self.conv1 = nn.Conv2d(3, 64, kernel_size=7, stride=2, padding=3)\n",
    "        self.batch_norm1 = nn.BatchNorm2d(64)\n",
    "        self.relu = nn.ReLU()\n",
    "        self.maxpool = nn.MaxPool2d(kernel_size=3, stride=2, padding=1)\n",
    "\n",
    "        self.conv2 = self.create_layer(residual_block, 64, 64, n_blocks_lst[0], 1)\n",
    "        self.conv3 = self.create_layer(residual_block, 64, 128, n_blocks_lst[1], 2)\n",
    "        self.conv4 = self.create_layer(residual_block, 128, 256, n_blocks_lst[2], 2)\n",
    "        self.conv5 = self.create_layer(residual_block, 256, 512, n_blocks_lst[3], 2)\n",
    "        \n",
    "        self.avgpool = nn.AdaptiveAvgPool2d(1)\n",
    "        self.flatten = nn.Flatten()\n",
    "        self.fc1 = nn.Linear(512, n_classes)\n",
    "\n",
    "\n",
    "    def create_layer(self, residual_block, in_channels, out_channels, n_blocks, stride):\n",
    "        blocks = []\n",
    "        first_block = residual_block(in_channels, out_channels, stride)\n",
    "        blocks.append(first_block)\n",
    "\n",
    "        for idx in range(1, n_blocks):\n",
    "            block = residual_block(out_channels, out_channels, stride)\n",
    "            blocks.append(block)\n",
    "\n",
    "        block_sequential = nn.Sequential(*blocks)\n",
    "        return block_sequential\n",
    "\n",
    "\n",
    "    def forward(self, x):\n",
    "        x = self.conv1(x)\n",
    "        x = self.batch_norm1(x)\n",
    "        x = self.maxpool(x)\n",
    "        x = self.relu(x)\n",
    "        \n",
    "        x = self.conv2(x)\n",
    "        x = self.conv3(x)\n",
    "        x = self.conv4(x)\n",
    "        x = self.conv5(x)\n",
    "        \n",
    "        x = self.avgpool(x)\n",
    "        x = self.flatten(x)\n",
    "        x = self.fc1(x)\n",
    "        \n",
    "        return x\n",
    "\n"
   ]
  },
  {
   "cell_type": "code",
   "execution_count": 14,
   "metadata": {},
   "outputs": [],
   "source": [
    "n_classes = len(list(classes.keys()))\n",
    "device = 'cuda' if torch.cuda.is_available() else 'cpu'\n",
    "\n",
    "model = ResNet(\n",
    "    residual_block=ResidualBlock,\n",
    "    n_blocks_lst=[2, 2, 2, 2],\n",
    "    n_classes=n_classes\n",
    ")\n"
   ]
  },
  {
   "cell_type": "markdown",
   "metadata": {},
   "source": [
    "### Evaluate Function"
   ]
  },
  {
   "cell_type": "code",
   "execution_count": 15,
   "metadata": {},
   "outputs": [],
   "source": [
    "def evaluate(model, dataloader, criterion, device):\n",
    "    model.eval()\n",
    "    correct = 0\n",
    "    total = 0\n",
    "    losses = []\n",
    "\n",
    "    with torch.no_grad():\n",
    "        for inputs, labels in dataloader:\n",
    "            inputs, labels = inputs.to(device), labels.to(device)\n",
    "            outputs = model(inputs)\n",
    "            loss = criterion(outputs, labels)\n",
    "            losses.append(loss.item())\n",
    "\n",
    "            _, predicted = torch.max(outputs.data, 1)\n",
    "            total += labels.size(0)\n",
    "            correct += (predicted == labels).sum().item()\n",
    "    \n",
    "    loss = sum(losses) / len(losses)\n",
    "    acc = correct / total\n",
    "\n",
    "    return loss, acc\n"
   ]
  },
  {
   "cell_type": "markdown",
   "metadata": {},
   "source": [
    "### Train function"
   ]
  },
  {
   "cell_type": "code",
   "execution_count": 16,
   "metadata": {},
   "outputs": [],
   "source": [
    "def fit(\n",
    "    model,\n",
    "    train_loader,\n",
    "    val_loader,\n",
    "    criterion,\n",
    "    optimizer,\n",
    "    device,\n",
    "    epochs\n",
    "):\n",
    "    train_losses = []\n",
    "    val_losses = []\n",
    "\n",
    "    for epoch in range(epochs):\n",
    "        batch_train_losses = []\n",
    "\n",
    "        # Training phase\n",
    "        model.train()\n",
    "        for idx, (inputs, labels) in enumerate(train_loader):\n",
    "            inputs, labels = inputs.to(device), labels.to(device)\n",
    "\n",
    "            optimizer.zero_grad()\n",
    "            outputs = model(inputs)\n",
    "            loss = criterion(outputs, labels)\n",
    "            loss.backward()\n",
    "            optimizer.step()\n",
    "\n",
    "            batch_train_losses.append(loss.item())\n",
    "\n",
    "        train_loss = sum(batch_train_losses) / len(batch_train_losses)\n",
    "        train_losses.append(train_loss)\n",
    "\n",
    "        # Validation phase\n",
    "        val_loss, val_acc = evaluate(\n",
    "            model, val_loader,\n",
    "            criterion, device\n",
    "        )\n",
    "        val_losses.append(val_loss)\n",
    "\n",
    "        print(f\"EPOCH {epoch + 1}:\\tTrain loss: {train_loss:.4f}\\tVal loss: {val_loss:.4f}\")\n",
    "\n",
    "    return train_losses, val_losses\n"
   ]
  },
  {
   "cell_type": "markdown",
   "metadata": {},
   "source": [
    "### Train Model"
   ]
  },
  {
   "cell_type": "code",
   "execution_count": 17,
   "metadata": {},
   "outputs": [],
   "source": [
    "lr = 1e-2\n",
    "epochs = 25\n",
    "\n",
    "criterion = nn.CrossEntropyLoss()\n",
    "optimizer = torch.optim.SGD(\n",
    "    model.parameters(),\n",
    "    lr=lr\n",
    ")\n"
   ]
  },
  {
   "cell_type": "code",
   "execution_count": 18,
   "metadata": {},
   "outputs": [
    {
     "name": "stdout",
     "output_type": "stream",
     "text": [
      "EPOCH 1:\tTrain loss: 2.3388\tVal loss: 2.3965\n",
      "EPOCH 2:\tTrain loss: 1.7989\tVal loss: 2.3919\n",
      "EPOCH 3:\tTrain loss: 1.4653\tVal loss: 2.3880\n",
      "EPOCH 4:\tTrain loss: 1.2407\tVal loss: 2.3859\n",
      "EPOCH 5:\tTrain loss: 1.0185\tVal loss: 2.3856\n",
      "EPOCH 6:\tTrain loss: 0.8500\tVal loss: 2.3847\n",
      "EPOCH 7:\tTrain loss: 0.6841\tVal loss: 2.3840\n",
      "EPOCH 8:\tTrain loss: 0.5717\tVal loss: 2.3852\n",
      "EPOCH 9:\tTrain loss: 0.4956\tVal loss: 2.3855\n",
      "EPOCH 10:\tTrain loss: 0.4260\tVal loss: 2.3862\n",
      "EPOCH 11:\tTrain loss: 0.3607\tVal loss: 2.3889\n",
      "EPOCH 12:\tTrain loss: 0.2968\tVal loss: 2.3922\n",
      "EPOCH 13:\tTrain loss: 0.1966\tVal loss: 2.3756\n",
      "EPOCH 14:\tTrain loss: 0.1429\tVal loss: 2.3547\n",
      "EPOCH 15:\tTrain loss: 0.1130\tVal loss: 2.3366\n",
      "EPOCH 16:\tTrain loss: 0.0967\tVal loss: 2.3093\n",
      "EPOCH 17:\tTrain loss: 0.0879\tVal loss: 2.2531\n",
      "EPOCH 18:\tTrain loss: 0.0791\tVal loss: 2.1740\n",
      "EPOCH 19:\tTrain loss: 0.0773\tVal loss: 2.0868\n",
      "EPOCH 20:\tTrain loss: 0.0629\tVal loss: 2.0163\n",
      "EPOCH 21:\tTrain loss: 0.0524\tVal loss: 1.9226\n",
      "EPOCH 22:\tTrain loss: 0.0530\tVal loss: 1.8170\n",
      "EPOCH 23:\tTrain loss: 0.0465\tVal loss: 1.7661\n",
      "EPOCH 24:\tTrain loss: 0.0433\tVal loss: 1.6717\n",
      "EPOCH 25:\tTrain loss: 0.0434\tVal loss: 1.6395\n"
     ]
    }
   ],
   "source": [
    "train_losses, val_losses = fit(\n",
    "    model,\n",
    "    train_loader,\n",
    "    val_loader,\n",
    "    criterion,\n",
    "    optimizer,\n",
    "    device,\n",
    "    epochs\n",
    ")\n"
   ]
  },
  {
   "cell_type": "code",
   "execution_count": 20,
   "metadata": {},
   "outputs": [
    {
     "data": {
      "image/png": "[encoded data removed]",
      "text/plain": [
       "<Figure size 1000x600 with 1 Axes>"
      ]
     },
     "metadata": {},
     "output_type": "display_data"
    }
   ],
   "source": [
    "# Vẽ đồ thị train loss và val loss\n",
    "plt.figure(figsize=(10, 6))\n",
    "plt.plot(range(1, epochs + 1), train_losses, label='Train Loss')\n",
    "plt.plot(range(1, epochs + 1), val_losses, label='Validation Loss')\n",
    "plt.xlabel('Epochs')\n",
    "plt.ylabel('Loss')\n",
    "plt.title('Training and Validation Loss over Epochs')\n",
    "plt.legend()\n",
    "plt.grid(True)\n",
    "plt.show()"
   ]
  },
  {
   "cell_type": "code",
   "execution_count": 19,
   "metadata": {},
   "outputs": [
    {
     "name": "stdout",
     "output_type": "stream",
     "text": [
      "Evaluation on val / test dataset\n",
      "Val accuracy: 0.4668608885651857\n",
      "Test accuracy: 0.8442503639010189\n"
     ]
    }
   ],
   "source": [
    "# Đánh giá mô hình trên tập val\n",
    "val_loss, val_acc = evaluate(\n",
    "    model,\n",
    "    val_loader,\n",
    "    criterion,\n",
    "    device\n",
    ")\n",
    "\n",
    "# Đánh giá mô hình trên tập test\n",
    "test_loss, test_acc = evaluate(\n",
    "    model,\n",
    "    test_loader,\n",
    "    criterion,\n",
    "    device\n",
    ")\n",
    "\n",
    "# In kết quả đánh giá\n",
    "print('Evaluation on val / test dataset')\n",
    "print('Val accuracy:', val_acc)\n",
    "print('Test accuracy:', test_acc)\n"
   ]
  },
  {
   "cell_type": "code",
   "execution_count": 22,
   "metadata": {},
   "outputs": [
    {
     "data": {
      "image/png": "[encoded data removed]",
      "text/plain": [
       "<Figure size 800x500 with 1 Axes>"
      ]
     },
     "metadata": {},
     "output_type": "display_data"
    }
   ],
   "source": [
    "accuracies = [val_acc, test_acc]\n",
    "datasets = ['Validation', 'Test']\n",
    "\n",
    "# Vẽ đồ thị accuracy\n",
    "plt.figure(figsize=(8, 5))\n",
    "plt.bar(datasets, accuracies, color=['blue', 'green'])\n",
    "plt.xlabel('Dataset')\n",
    "plt.ylabel('Accuracy')\n",
    "plt.title('Model Accuracy on Validation and Test Datasets')\n",
    "plt.ylim(0, 1)  # Đảm bảo trục Y nằm trong khoảng [0, 1]\n",
    "plt.show()"
   ]
  },
  {
   "cell_type": "code",
   "execution_count": 27,
   "metadata": {},
   "outputs": [],
   "source": [
    "# Chuyển mô hình sang TorchScript và lưu lại\n",
    "scripted_model = torch.jit.script(model)\n",
    "scripted_model.save('resnet_model_scripted.pt')\n"
   ]
  },
  {
   "cell_type": "code",
   "execution_count": null,
   "metadata": {},
   "outputs": [],
   "source": []
  }
 ],
 "metadata": {
  "kernelspec": {
   "display_name": "Python 3",
   "language": "python",
   "name": "python3"
  },
  "language_info": {
   "codemirror_mode": {
    "name": "ipython",
    "version": 3
   },
   "file_extension": ".py",
   "mimetype": "text/x-python",
   "name": "python",
   "nbconvert_exporter": "python",
   "pygments_lexer": "ipython3",
   "version": "3.10.11"
  }
 },
 "nbformat": 4,
 "nbformat_minor": 2
}
